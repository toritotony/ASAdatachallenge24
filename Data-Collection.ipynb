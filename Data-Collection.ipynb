{
 "cells": [
  {
   "cell_type": "code",
   "execution_count": 1,
   "metadata": {},
   "outputs": [],
   "source": [
    "import pandas as pd\n",
    "from sodapy import Socrata"
   ]
  },
  {
   "cell_type": "code",
   "execution_count": 13,
   "metadata": {},
   "outputs": [
    {
     "name": "stderr",
     "output_type": "stream",
     "text": [
      "WARNING:root:Requests made without an app_token will be subject to strict throttling limits.\n"
     ]
    }
   ],
   "source": [
    "client = Socrata(\"data.lacity.org\", None)"
   ]
  },
  {
   "cell_type": "code",
   "execution_count": 15,
   "metadata": {},
   "outputs": [],
   "source": [
    "results = client.get(\"xjgu-z4ju\")"
   ]
  },
  {
   "cell_type": "code",
   "execution_count": 16,
   "metadata": {},
   "outputs": [
    {
     "data": {
      "text/html": [
       "<div>\n",
       "<style scoped>\n",
       "    .dataframe tbody tr th:only-of-type {\n",
       "        vertical-align: middle;\n",
       "    }\n",
       "\n",
       "    .dataframe tbody tr th {\n",
       "        vertical-align: top;\n",
       "    }\n",
       "\n",
       "    .dataframe thead th {\n",
       "        text-align: right;\n",
       "    }\n",
       "</style>\n",
       "<table border=\"1\" class=\"dataframe\">\n",
       "  <thead>\n",
       "    <tr style=\"text-align: right;\">\n",
       "      <th></th>\n",
       "      <th>incident_number</th>\n",
       "      <th>area_occ</th>\n",
       "      <th>rpt_dist</th>\n",
       "      <th>dispatch_date</th>\n",
       "      <th>dispatch_time</th>\n",
       "      <th>call_type_code</th>\n",
       "      <th>call_type_text</th>\n",
       "    </tr>\n",
       "  </thead>\n",
       "  <tbody>\n",
       "    <tr>\n",
       "      <th>0</th>\n",
       "      <td>PD24053000002640</td>\n",
       "      <td>Southeast</td>\n",
       "      <td>1836</td>\n",
       "      <td>2024-05-30T00:00:00.000</td>\n",
       "      <td>14:18:02</td>\n",
       "      <td>620F</td>\n",
       "      <td>620 FAMILY</td>\n",
       "    </tr>\n",
       "    <tr>\n",
       "      <th>1</th>\n",
       "      <td>PD24041200001920</td>\n",
       "      <td>Outside</td>\n",
       "      <td>NaN</td>\n",
       "      <td>2024-04-12T00:00:00.000</td>\n",
       "      <td>11:24:17</td>\n",
       "      <td>006</td>\n",
       "      <td>CODE 6</td>\n",
       "    </tr>\n",
       "    <tr>\n",
       "      <th>2</th>\n",
       "      <td>PD24061800001899</td>\n",
       "      <td>Van Nuys</td>\n",
       "      <td>0935</td>\n",
       "      <td>2024-06-18T00:00:00.000</td>\n",
       "      <td>11:48:43</td>\n",
       "      <td>006</td>\n",
       "      <td>CODE 6</td>\n",
       "    </tr>\n",
       "    <tr>\n",
       "      <th>3</th>\n",
       "      <td>PD24050900001996</td>\n",
       "      <td>Outside</td>\n",
       "      <td>NaN</td>\n",
       "      <td>2024-05-09T00:00:00.000</td>\n",
       "      <td>10:37:20</td>\n",
       "      <td>006</td>\n",
       "      <td>CODE 6</td>\n",
       "    </tr>\n",
       "    <tr>\n",
       "      <th>4</th>\n",
       "      <td>PD24041500005122</td>\n",
       "      <td>West LA</td>\n",
       "      <td>0881</td>\n",
       "      <td>2024-04-15T00:00:00.000</td>\n",
       "      <td>23:31:20</td>\n",
       "      <td>900</td>\n",
       "      <td>900 UNKNOWN TROUBLE</td>\n",
       "    </tr>\n",
       "  </tbody>\n",
       "</table>\n",
       "</div>"
      ],
      "text/plain": [
       "    incident_number   area_occ rpt_dist            dispatch_date  \\\n",
       "0  PD24053000002640  Southeast     1836  2024-05-30T00:00:00.000   \n",
       "1  PD24041200001920    Outside      NaN  2024-04-12T00:00:00.000   \n",
       "2  PD24061800001899   Van Nuys     0935  2024-06-18T00:00:00.000   \n",
       "3  PD24050900001996    Outside      NaN  2024-05-09T00:00:00.000   \n",
       "4  PD24041500005122    West LA     0881  2024-04-15T00:00:00.000   \n",
       "\n",
       "  dispatch_time call_type_code       call_type_text  \n",
       "0      14:18:02           620F           620 FAMILY  \n",
       "1      11:24:17            006               CODE 6  \n",
       "2      11:48:43            006               CODE 6  \n",
       "3      10:37:20            006               CODE 6  \n",
       "4      23:31:20            900  900 UNKNOWN TROUBLE  "
      ]
     },
     "execution_count": 16,
     "metadata": {},
     "output_type": "execute_result"
    }
   ],
   "source": [
    "results_df = pd.DataFrame.from_records(results)\n",
    "results_df.head(5)"
   ]
  }
 ],
 "metadata": {
  "kernelspec": {
   "display_name": "venv",
   "language": "python",
   "name": "python3"
  },
  "language_info": {
   "codemirror_mode": {
    "name": "ipython",
    "version": 3
   },
   "file_extension": ".py",
   "mimetype": "text/x-python",
   "name": "python",
   "nbconvert_exporter": "python",
   "pygments_lexer": "ipython3",
   "version": "3.11.9"
  }
 },
 "nbformat": 4,
 "nbformat_minor": 2
}
